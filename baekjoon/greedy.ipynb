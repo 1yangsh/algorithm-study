{
 "cells": [
  {
   "cell_type": "markdown",
   "metadata": {},
   "source": [
    "### greedy"
   ]
  },
  {
   "cell_type": "code",
   "execution_count": 3,
   "metadata": {},
   "outputs": [
    {
     "name": "stdout",
     "output_type": "stream",
     "text": [
      "4\n",
      "-1\n"
     ]
    }
   ],
   "source": [
    "# 설탕 배달\n",
    "def sugar(n) :\n",
    "    for y in range((n//3)+1) :\n",
    "        for x in range( (n//5)+1 ) :\n",
    "            if ((5*x + 3*y) == n) :\n",
    "                return x + y            \n",
    "    return -1\n",
    "\n",
    "n = int(input())       \n",
    "print(sugar(n))\n",
    "\n"
   ]
  },
  {
   "cell_type": "code",
   "execution_count": 20,
   "metadata": {},
   "outputs": [
    {
     "name": "stdout",
     "output_type": "stream",
     "text": [
      "5\n",
      "5 3 1 1 3\n",
      "29\n"
     ]
    }
   ],
   "source": [
    "# ATM\n",
    "n = int(input())\n",
    "data = list(map(int, input().split()))\n",
    "\n",
    "data = sorted(data)\n",
    "\n",
    "sum = 0\n",
    "for i in range(len(data)):\n",
    "    for j in range(i+1):\n",
    "        sum += data[j]\n",
    "        \n",
    "print(sum)\n",
    "        "
   ]
  },
  {
   "cell_type": "code",
   "execution_count": 4,
   "metadata": {},
   "outputs": [
    {
     "name": "stdout",
     "output_type": "stream",
     "text": [
      "10 4200\n",
      "1\n",
      "2\n",
      "3\n",
      "4\n",
      "50\n",
      "30\n",
      "11\n",
      "22\n",
      "463\n",
      "13\n"
     ]
    },
    {
     "data": {
      "text/plain": [
       "[463, 50, 30, 22, 13, 11, 4, 3, 2, 1]"
      ]
     },
     "execution_count": 4,
     "metadata": {},
     "output_type": "execute_result"
    }
   ],
   "source": [
    "n, k = input().split()\n",
    "myList = []\n",
    "for i in range(int(n)):\n",
    "    myList.append(int(input()))\n",
    "    \n",
    "myList = sorted(myList, reverse=True)\n",
    "myList"
   ]
  },
  {
   "cell_type": "code",
   "execution_count": null,
   "metadata": {},
   "outputs": [],
   "source": []
  }
 ],
 "metadata": {
  "kernelspec": {
   "display_name": "Python 3",
   "language": "python",
   "name": "python3"
  },
  "language_info": {
   "codemirror_mode": {
    "name": "ipython",
    "version": 3
   },
   "file_extension": ".py",
   "mimetype": "text/x-python",
   "name": "python",
   "nbconvert_exporter": "python",
   "pygments_lexer": "ipython3",
   "version": "3.8.5"
  }
 },
 "nbformat": 4,
 "nbformat_minor": 4
}
