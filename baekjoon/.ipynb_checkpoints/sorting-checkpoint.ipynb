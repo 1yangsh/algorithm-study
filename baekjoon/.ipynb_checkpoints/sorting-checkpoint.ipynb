{
 "cells": [
  {
   "cell_type": "code",
   "execution_count": 48,
   "metadata": {
    "scrolled": true
   },
   "outputs": [],
   "source": [
    "### 5635 생일\n",
    "\n",
    "n = int(input())\n",
    "myList = []\n",
    "myList2 = []\n",
    "for i in range(n):\n",
    "    myList.append(list(map(str, input().split(' ')))) \n",
    "\n",
    "for j in myList:\n",
    "    myList2.append([j[0], j[3] + j[2].zfill(2) + j[1].zfill(2)])\n",
    "\n",
    "\n",
    "myList2.sort(key=lambda x:-int(x[-1]))\n",
    "# print(myList2)\n",
    "print(myList2[0][0])\n",
    "print(myList2[-1][0])"
   ]
  },
  {
   "cell_type": "code",
   "execution_count": 64,
   "metadata": {},
   "outputs": [
    {
     "name": "stdout",
     "output_type": "stream",
     "text": [
      "23\n",
      "23\n",
      "20\n",
      "15\n",
      "15\n",
      "14\n",
      "13\n",
      "9\n",
      "7\n",
      "6\n",
      "25\n",
      "19\n",
      "17\n",
      "17\n",
      "16\n",
      "13\n",
      "12\n",
      "11\n",
      "9\n",
      "5\n",
      "[23, 23, 20, 15, 15, 14, 13, 9, 7, 6] [25, 19, 17, 17, 16, 13, 12, 11, 9, 5]\n",
      "66 61\n"
     ]
    }
   ],
   "source": [
    "## 5576 콘테스트\n",
    "myList = []\n",
    "myList2 = []\n",
    "for _ in range(10):\n",
    "    myList.append(int(input()))\n",
    "    \n",
    "for _ in range(10):\n",
    "    myList2.append(int(input()))\n",
    "\n",
    "myList.sort(reverse=True)\n",
    "myList2.sort(reverse=True)\n",
    "\n",
    "ans1 = myList[0] + myList[1] + myList[2]\n",
    "ans2 = myList2[0] + myList2[1] + myList2[2]\n",
    "\n",
    "# print(myList, myList2)\n",
    "print(ans1, ans2)\n"
   ]
  }
 ],
 "metadata": {
  "kernelspec": {
   "display_name": "Python 3",
   "language": "python",
   "name": "python3"
  },
  "language_info": {
   "codemirror_mode": {
    "name": "ipython",
    "version": 3
   },
   "file_extension": ".py",
   "mimetype": "text/x-python",
   "name": "python",
   "nbconvert_exporter": "python",
   "pygments_lexer": "ipython3",
   "version": "3.8.5"
  }
 },
 "nbformat": 4,
 "nbformat_minor": 4
}
