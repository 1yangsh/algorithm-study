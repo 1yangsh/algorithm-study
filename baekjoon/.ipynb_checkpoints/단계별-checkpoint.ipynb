{
 "cells": [
  {
   "cell_type": "markdown",
   "metadata": {},
   "source": [
    "### if문\n",
    "두수 비교하기"
   ]
  },
  {
   "cell_type": "code",
   "execution_count": 3,
   "metadata": {},
   "outputs": [
    {
     "name": "stdout",
     "output_type": "stream",
     "text": [
      "10 2\n",
      ">\n"
     ]
    }
   ],
   "source": [
    "# 두수 비교하기\n",
    "a, b = map(int, input().split())\n",
    "if a > b:\n",
    "    print(\">\")\n",
    "elif a < b:\n",
    "    print(\"<\")\n",
    "else:\n",
    "    print(\"==\")"
   ]
  },
  {
   "cell_type": "code",
   "execution_count": 4,
   "metadata": {},
   "outputs": [
    {
     "name": "stdout",
     "output_type": "stream",
     "text": [
      "100\n",
      "A\n"
     ]
    }
   ],
   "source": [
    "# 시험 성적\n",
    "a = int(input())\n",
    "if 90 <= a <= 100:\n",
    "    print(\"A\")\n",
    "elif 80 <= a <= 89:\n",
    "    print(\"B\")\n",
    "elif 70 <= a <= 79:\n",
    "    print(\"C\")\n",
    "elif 60 <= a <= 69:\n",
    "    print(\"D\")\n",
    "else:\n",
    "    print(\"F\")"
   ]
  },
  {
   "cell_type": "code",
   "execution_count": 6,
   "metadata": {},
   "outputs": [
    {
     "name": "stdout",
     "output_type": "stream",
     "text": [
      "1999\n",
      "0\n"
     ]
    }
   ],
   "source": [
    "# 윤년\n",
    "year = int(input())\n",
    "if (year % 4 == 0) and (year % 100 != 0):\n",
    "    print(\"1\")\n",
    "elif (year % 400 == 0):\n",
    "    print(\"1\")\n",
    "else:\n",
    "    print(\"0\")"
   ]
  },
  {
   "cell_type": "code",
   "execution_count": 7,
   "metadata": {},
   "outputs": [
    {
     "name": "stdout",
     "output_type": "stream",
     "text": [
      "9\n",
      "-13\n",
      "4\n"
     ]
    }
   ],
   "source": [
    "# 사분면\n",
    "a = int(input())\n",
    "b = int(input())\n",
    "\n",
    "if a > 0 and b > 0:\n",
    "    print(\"1\")\n",
    "elif a < 0 and b > 0:\n",
    "    print(\"2\")\n",
    "elif a < 0 and b < 0:\n",
    "    print(\"3\")\n",
    "else:\n",
    "    print(\"4\")"
   ]
  },
  {
   "cell_type": "code",
   "execution_count": 9,
   "metadata": {
    "scrolled": false
   },
   "outputs": [
    {
     "name": "stdout",
     "output_type": "stream",
     "text": [
      "23 40\n",
      "22 55\n"
     ]
    }
   ],
   "source": [
    "# 알람 시계\n",
    "a, b = map(int, input().split())\n",
    "if a != 0:\n",
    "    if b >= 45:\n",
    "        print(a, b-45)\n",
    "    else:\n",
    "        print(a - 1, 60 - (45-b))\n",
    "else:\n",
    "    if b >= 45:\n",
    "        print(a, b-45)\n",
    "    else:\n",
    "        print(23, 60 - (45-b))\n"
   ]
  },
  {
   "cell_type": "markdown",
   "metadata": {},
   "source": [
    "### 수학문제 1"
   ]
  },
  {
   "cell_type": "code",
   "execution_count": 13,
   "metadata": {},
   "outputs": [
    {
     "name": "stdout",
     "output_type": "stream",
     "text": [
      "1000 70 170\n",
      "11\n"
     ]
    }
   ],
   "source": [
    "# 손익분기점 1712\n",
    "a, b, c = map(int, input().split())\n",
    "\n",
    "if b >= c:\n",
    "        print(\"-1\")\n",
    "else:\n",
    "    print(int((a / (c-b)) + 1))"
   ]
  },
  {
   "cell_type": "code",
   "execution_count": 28,
   "metadata": {},
   "outputs": [
    {
     "name": "stdout",
     "output_type": "stream",
     "text": [
      "13\n",
      "3\n"
     ]
    }
   ],
   "source": [
    "# 벌집 2292\n",
    "\n",
    "\n",
    "n = int(input())\n",
    "a, b,i = 2,7,0\n",
    "if n == 1:\n",
    "    print(\"1\")\n",
    "else:\n",
    "    for i in range(1000000000):\n",
    "        if a <= n <= b:\n",
    "            print(i + 2)\n",
    "            break\n",
    "        else:\n",
    "            a += 6 * (i + 1)\n",
    "            b += 6 * (i + 2)\n",
    "\n",
    "    \n",
    " "
   ]
  },
  {
   "cell_type": "code",
   "execution_count": null,
   "metadata": {},
   "outputs": [],
   "source": []
  }
 ],
 "metadata": {
  "kernelspec": {
   "display_name": "Python 3",
   "language": "python",
   "name": "python3"
  },
  "language_info": {
   "codemirror_mode": {
    "name": "ipython",
    "version": 3
   },
   "file_extension": ".py",
   "mimetype": "text/x-python",
   "name": "python",
   "nbconvert_exporter": "python",
   "pygments_lexer": "ipython3",
   "version": "3.8.5"
  }
 },
 "nbformat": 4,
 "nbformat_minor": 4
}
