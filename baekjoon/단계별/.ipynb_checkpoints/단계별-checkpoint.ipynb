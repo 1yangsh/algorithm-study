{
 "cells": [
  {
   "cell_type": "markdown",
   "metadata": {},
   "source": [
    "### if문\n",
    "두수 비교하기"
   ]
  },
  {
   "cell_type": "code",
   "execution_count": 3,
   "metadata": {},
   "outputs": [
    {
     "name": "stdout",
     "output_type": "stream",
     "text": [
      "10 2\n",
      ">\n"
     ]
    }
   ],
   "source": [
    "# 두수 비교하기\n",
    "a, b = map(int, input().split())\n",
    "if a > b:\n",
    "    print(\">\")\n",
    "elif a < b:\n",
    "    print(\"<\")\n",
    "else:\n",
    "    print(\"==\")"
   ]
  },
  {
   "cell_type": "code",
   "execution_count": 4,
   "metadata": {},
   "outputs": [
    {
     "name": "stdout",
     "output_type": "stream",
     "text": [
      "100\n",
      "A\n"
     ]
    }
   ],
   "source": [
    "# 시험 성적\n",
    "a = int(input())\n",
    "if 90 <= a <= 100:\n",
    "    print(\"A\")\n",
    "elif 80 <= a <= 89:\n",
    "    print(\"B\")\n",
    "elif 70 <= a <= 79:\n",
    "    print(\"C\")\n",
    "elif 60 <= a <= 69:\n",
    "    print(\"D\")\n",
    "else:\n",
    "    print(\"F\")"
   ]
  },
  {
   "cell_type": "code",
   "execution_count": 6,
   "metadata": {},
   "outputs": [
    {
     "name": "stdout",
     "output_type": "stream",
     "text": [
      "1999\n",
      "0\n"
     ]
    }
   ],
   "source": [
    "# 윤년\n",
    "year = int(input())\n",
    "if (year % 4 == 0) and (year % 100 != 0):\n",
    "    print(\"1\")\n",
    "elif (year % 400 == 0):\n",
    "    print(\"1\")\n",
    "else:\n",
    "    print(\"0\")"
   ]
  },
  {
   "cell_type": "code",
   "execution_count": 7,
   "metadata": {},
   "outputs": [
    {
     "name": "stdout",
     "output_type": "stream",
     "text": [
      "9\n",
      "-13\n",
      "4\n"
     ]
    }
   ],
   "source": [
    "# 사분면\n",
    "a = int(input())\n",
    "b = int(input())\n",
    "\n",
    "if a > 0 and b > 0:\n",
    "    print(\"1\")\n",
    "elif a < 0 and b > 0:\n",
    "    print(\"2\")\n",
    "elif a < 0 and b < 0:\n",
    "    print(\"3\")\n",
    "else:\n",
    "    print(\"4\")"
   ]
  },
  {
   "cell_type": "code",
   "execution_count": 9,
   "metadata": {
    "scrolled": false
   },
   "outputs": [
    {
     "name": "stdout",
     "output_type": "stream",
     "text": [
      "23 40\n",
      "22 55\n"
     ]
    }
   ],
   "source": [
    "# 알람 시계\n",
    "a, b = map(int, input().split())\n",
    "if a != 0:\n",
    "    if b >= 45:\n",
    "        print(a, b-45)\n",
    "    else:\n",
    "        print(a - 1, 60 - (45-b))\n",
    "else:\n",
    "    if b >= 45:\n",
    "        print(a, b-45)\n",
    "    else:\n",
    "        print(23, 60 - (45-b))\n"
   ]
  },
  {
   "cell_type": "markdown",
   "metadata": {},
   "source": [
    "## for"
   ]
  },
  {
   "cell_type": "code",
   "execution_count": 20,
   "metadata": {},
   "outputs": [
    {
     "ename": "ValueError",
     "evalue": "invalid literal for int() with base 10: ''",
     "output_type": "error",
     "traceback": [
      "\u001b[1;31m---------------------------------------------------------------------------\u001b[0m",
      "\u001b[1;31mValueError\u001b[0m                                Traceback (most recent call last)",
      "\u001b[1;32m<ipython-input-20-8771bac66779>\u001b[0m in \u001b[0;36m<module>\u001b[1;34m\u001b[0m\n\u001b[0;32m      2\u001b[0m \u001b[1;32mimport\u001b[0m \u001b[0msys\u001b[0m\u001b[1;33m\u001b[0m\u001b[1;33m\u001b[0m\u001b[0m\n\u001b[0;32m      3\u001b[0m \u001b[1;33m\u001b[0m\u001b[0m\n\u001b[1;32m----> 4\u001b[1;33m \u001b[0mn\u001b[0m \u001b[1;33m=\u001b[0m \u001b[0mint\u001b[0m\u001b[1;33m(\u001b[0m\u001b[0minput\u001b[0m\u001b[1;33m(\u001b[0m\u001b[1;33m)\u001b[0m\u001b[1;33m)\u001b[0m\u001b[1;33m\u001b[0m\u001b[1;33m\u001b[0m\u001b[0m\n\u001b[0m\u001b[0;32m      5\u001b[0m \u001b[1;32mfor\u001b[0m \u001b[0mi\u001b[0m \u001b[1;32min\u001b[0m \u001b[0mrange\u001b[0m\u001b[1;33m(\u001b[0m\u001b[0mn\u001b[0m\u001b[1;33m)\u001b[0m\u001b[1;33m:\u001b[0m\u001b[1;33m\u001b[0m\u001b[1;33m\u001b[0m\u001b[0m\n\u001b[0;32m      6\u001b[0m     \u001b[0ma\u001b[0m\u001b[1;33m,\u001b[0m\u001b[0mb\u001b[0m \u001b[1;33m=\u001b[0m \u001b[0mmap\u001b[0m\u001b[1;33m(\u001b[0m\u001b[0mint\u001b[0m\u001b[1;33m,\u001b[0m \u001b[0msys\u001b[0m\u001b[1;33m.\u001b[0m\u001b[0mstdin\u001b[0m\u001b[1;33m.\u001b[0m\u001b[0mreadline\u001b[0m\u001b[1;33m(\u001b[0m\u001b[1;33m)\u001b[0m\u001b[1;33m.\u001b[0m\u001b[0msplit\u001b[0m\u001b[1;33m(\u001b[0m\u001b[1;33m)\u001b[0m\u001b[1;33m)\u001b[0m\u001b[1;33m\u001b[0m\u001b[1;33m\u001b[0m\u001b[0m\n",
      "\u001b[1;31mValueError\u001b[0m: invalid literal for int() with base 10: ''"
     ]
    }
   ],
   "source": [
    "# 15552\n",
    "import sys\n",
    " \n",
    "n = int(input())\n",
    "for i in range(n):\n",
    "    a,b = map(int, sys.stdin.readline().split())\n",
    "    print(a + b)"
   ]
  },
  {
   "cell_type": "code",
   "execution_count": 16,
   "metadata": {},
   "outputs": [
    {
     "ename": "ValueError",
     "evalue": "invalid literal for int() with base 10: ''",
     "output_type": "error",
     "traceback": [
      "\u001b[1;31m---------------------------------------------------------------------------\u001b[0m",
      "\u001b[1;31mValueError\u001b[0m                                Traceback (most recent call last)",
      "\u001b[1;32m<ipython-input-16-fed8e157ffe3>\u001b[0m in \u001b[0;36m<module>\u001b[1;34m\u001b[0m\n\u001b[0;32m      1\u001b[0m \u001b[1;31m# 2741\u001b[0m\u001b[1;33m\u001b[0m\u001b[1;33m\u001b[0m\u001b[1;33m\u001b[0m\u001b[0m\n\u001b[1;32m----> 2\u001b[1;33m \u001b[0mn\u001b[0m \u001b[1;33m=\u001b[0m \u001b[0mint\u001b[0m\u001b[1;33m(\u001b[0m\u001b[0minput\u001b[0m\u001b[1;33m(\u001b[0m\u001b[1;33m)\u001b[0m\u001b[1;33m)\u001b[0m\u001b[1;33m\u001b[0m\u001b[1;33m\u001b[0m\u001b[0m\n\u001b[0m",
      "\u001b[1;31mValueError\u001b[0m: invalid literal for int() with base 10: ''"
     ]
    }
   ],
   "source": [
    "# 2741\n",
    "n = int(input())\n"
   ]
  },
  {
   "cell_type": "markdown",
   "metadata": {},
   "source": [
    "### 수학문제 1"
   ]
  },
  {
   "cell_type": "code",
   "execution_count": 13,
   "metadata": {},
   "outputs": [
    {
     "name": "stdout",
     "output_type": "stream",
     "text": [
      "1000 70 170\n",
      "11\n"
     ]
    }
   ],
   "source": [
    "# 손익분기점 1712\n",
    "a, b, c = map(int, input().split())\n",
    "\n",
    "if b >= c:\n",
    "        print(\"-1\")\n",
    "else:\n",
    "    print(int((a / (c-b)) + 1))"
   ]
  },
  {
   "cell_type": "code",
   "execution_count": 28,
   "metadata": {},
   "outputs": [
    {
     "name": "stdout",
     "output_type": "stream",
     "text": [
      "13\n",
      "3\n"
     ]
    }
   ],
   "source": [
    "# 벌집 2292\n",
    "\n",
    "\n",
    "n = int(input())\n",
    "a, b,i = 2,7,0\n",
    "if n == 1:\n",
    "    print(\"1\")\n",
    "else:\n",
    "    for i in range(1000000000):\n",
    "        if a <= n <= b:\n",
    "            print(i + 2)\n",
    "            break\n",
    "        else:\n",
    "            a += 6 * (i + 1)\n",
    "            b += 6 * (i + 2)\n"
   ]
  },
  {
   "cell_type": "markdown",
   "metadata": {},
   "source": [
    "## brute-force"
   ]
  },
  {
   "cell_type": "code",
   "execution_count": 3,
   "metadata": {},
   "outputs": [
    {
     "name": "stdout",
     "output_type": "stream",
     "text": [
      "10 500\n",
      "93 181 245 214 315 36 185 138 216 295\n",
      "497\n"
     ]
    }
   ],
   "source": [
    "# 블랙잭 2798\n",
    "n, m = map(int, input().split())\n",
    "data = list(map(int, input().split()))\n",
    "\n",
    "ans = 0\n",
    "for i in range(len(data)):\n",
    "    for j in range(i+1, len(data)):\n",
    "        for k in range(j+1, len(data)):\n",
    "            if ans < data[i] + data[j] + data[k] <= m:\n",
    "                ans = data[i] + data[j] + data[k]\n",
    "                \n",
    "print(ans)"
   ]
  },
  {
   "cell_type": "code",
   "execution_count": 20,
   "metadata": {},
   "outputs": [
    {
     "name": "stdout",
     "output_type": "stream",
     "text": [
      "1\n"
     ]
    }
   ],
   "source": [
    "# 분해합 2231\n",
    "data = int(input())\n",
    "if data == 1:\n",
    "    print(0)\n",
    "else:\n",
    "    for i in range(1, data):\n",
    "        sum = 0\n",
    "        for j in str(i):\n",
    "            sum += int(j)\n",
    "        if sum + i == data:\n",
    "            print(i)\n",
    "            break\n",
    "\n",
    "        if i == data-1:\n",
    "            print(0)"
   ]
  },
  {
   "cell_type": "code",
   "execution_count": 26,
   "metadata": {
    "scrolled": true
   },
   "outputs": [
    {
     "name": "stdout",
     "output_type": "stream",
     "text": [
      "5\n",
      "55 185\n",
      "58 183\n",
      "88 186\n",
      "60 175\n",
      "46 155\n",
      "[2, 2, 1, 2, 5]\n"
     ]
    }
   ],
   "source": [
    "# 덩치 7568\n",
    "n = int(input())\n",
    "li = []\n",
    "ans = []\n",
    "for i in range(n):\n",
    "    li.append(list(map(int, input().split())))\n",
    "              \n",
    "for j in range(len(li)):\n",
    "    cnt = 1\n",
    "    for k in range(len(li)):\n",
    "        if li[j][0] < li[k][0] and li[j][1] < li[k][1]:\n",
    "            cnt += 1\n",
    "    ans.append(cnt)\n",
    "    \n",
    "for i in ans:\n",
    "    print(i, end=' ')"
   ]
  },
  {
   "cell_type": "markdown",
   "metadata": {},
   "source": [
    "## Dynamic Programming(DP)"
   ]
  },
  {
   "cell_type": "code",
   "execution_count": 29,
   "metadata": {},
   "outputs": [
    {
     "name": "stdout",
     "output_type": "stream",
     "text": [
      "10\n",
      "5.0\n",
      "4.0\n",
      "2.0\n",
      "1.0\n",
      "4\n"
     ]
    }
   ],
   "source": [
    "# 1로만들기 1463\n",
    "n = int(input())\n",
    "cnt = 0\n",
    "while(n != 1):\n",
    "    if n % 3 == 0:\n",
    "        n = n / 3\n",
    "        cnt += 1\n",
    "    elif n % 2 == 0:\n",
    "        n = n / 2\n",
    "        cnt += 1\n",
    "    else:\n",
    "        n -= 1\n",
    "        cnt += 1\n",
    "    print(n)\n",
    "        \n",
    "print(cnt)"
   ]
  },
  {
   "cell_type": "code",
   "execution_count": null,
   "metadata": {},
   "outputs": [],
   "source": [
    "## while"
   ]
  },
  {
   "cell_type": "code",
   "execution_count": 7,
   "metadata": {},
   "outputs": [
    {
     "name": "stdout",
     "output_type": "stream",
     "text": [
      "2 3\n",
      "5\n"
     ]
    }
   ],
   "source": [
    "# 10952\n",
    "while(1):\n",
    "    a, b = list(map(int, input().split()))\n",
    "    if a + b != 0:\n",
    "        print(a + b)\n",
    "    else:\n",
    "        break\n",
    "    "
   ]
  },
  {
   "cell_type": "code",
   "execution_count": 14,
   "metadata": {},
   "outputs": [
    {
     "name": "stdout",
     "output_type": "stream",
     "text": [
      "3\n",
      "3\n",
      "5\n",
      "1\n",
      "[1, 3, 5]\n"
     ]
    }
   ],
   "source": [
    "n = int(input())\n",
    "data = []\n",
    "for _ in range(n):\n",
    "    data.append(int(input()))\n",
    "data.sort()\n",
    "for i in data:\n",
    "    print(i)"
   ]
  },
  {
   "cell_type": "code",
   "execution_count": 16,
   "metadata": {},
   "outputs": [
    {
     "name": "stdout",
     "output_type": "stream",
     "text": [
      "3\n",
      "3\n",
      "5\n",
      "1\n",
      "1\n",
      "3\n",
      "5\n"
     ]
    }
   ],
   "source": [
    "n = int(input())\n",
    "data = []\n",
    "for _ in range(n):\n",
    "    data.append(int(input()))\n",
    "\n",
    "data.sort()\n",
    "print(sum(data) / len(data))\n",
    "print(data[len(data)/2])\n",
    "print()\n",
    "print(data[-1] - data[0])\n",
    "    "
   ]
  }
 ],
 "metadata": {
  "kernelspec": {
   "display_name": "Python 3",
   "language": "python",
   "name": "python3"
  },
  "language_info": {
   "codemirror_mode": {
    "name": "ipython",
    "version": 3
   },
   "file_extension": ".py",
   "mimetype": "text/x-python",
   "name": "python",
   "nbconvert_exporter": "python",
   "pygments_lexer": "ipython3",
   "version": "3.8.5"
  }
 },
 "nbformat": 4,
 "nbformat_minor": 4
}
