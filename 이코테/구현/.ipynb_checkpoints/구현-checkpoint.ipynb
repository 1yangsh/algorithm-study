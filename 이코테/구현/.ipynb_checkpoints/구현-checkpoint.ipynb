{
 "cells": [
  {
   "cell_type": "code",
   "execution_count": 9,
   "id": "2d2a0fe0",
   "metadata": {},
   "outputs": [
    {
     "name": "stdout",
     "output_type": "stream",
     "text": [
      "5\n",
      "R R R U D D\n",
      "3 4\n"
     ]
    }
   ],
   "source": [
    "# 상하좌우\n",
    "\n",
    "n = int(input())\n",
    "\n",
    "data = list(input().split())\n",
    "\n",
    "go = {'R':0, 'L':1, 'D':2, 'U':3}\n",
    "directions = ((0, 1), (0, -1), (1, 0), (-1, 0))\n",
    "\n",
    "def trip(x, y, t):\n",
    "    dx = x + directions[go[t]][0]\n",
    "    dy = y + directions[go[t]][1]\n",
    "    \n",
    "    if dx < 0 or dy < 0 or dx >= n or dy >= n:\n",
    "        return (x, y)\n",
    "    \n",
    "    return (dx, dy)\n",
    "\n",
    "x, y = 0, 0\n",
    "for d in data:\n",
    "    x, y = trip(x, y, d)\n",
    "    \n",
    "print(x + 1, y + 1)\n",
    "    \n",
    "    \n",
    "    "
   ]
  },
  {
   "cell_type": "code",
   "execution_count": 15,
   "id": "b5eeaae1",
   "metadata": {},
   "outputs": [
    {
     "name": "stdout",
     "output_type": "stream",
     "text": [
      "5\n",
      "11475\n"
     ]
    }
   ],
   "source": [
    "# 시각\n",
    "\n",
    "n = int(input())\n",
    "result = 0\n",
    "\n",
    "for i in range(n + 1):\n",
    "    for j in range(60):\n",
    "        for k in range(60):\n",
    "            if '3' in str(i) + str(j) + str(k):\n",
    "                result += 1\n",
    "                \n",
    "print(result)"
   ]
  },
  {
   "cell_type": "code",
   "execution_count": 18,
   "id": "4f47c55b",
   "metadata": {},
   "outputs": [
    {
     "name": "stdout",
     "output_type": "stream",
     "text": [
      "c2\n",
      "6\n"
     ]
    }
   ],
   "source": [
    "# 왕실의 나이트\n",
    "\n",
    "data = input()\n",
    "\n",
    "step = [(1, 2), (1, -2), (2, 1), (2, -1), (-1, 2), (-1, -2), (-2, 1), (-2, -1)]\n",
    "\n",
    "x = int(ord(data[0])) - int(ord('a'))\n",
    "y = int(data[1]) - 1\n",
    "\n",
    "result = 0\n",
    "for s in step:\n",
    "    dx = x + s[0]\n",
    "    dy = y + s[1]\n",
    "    \n",
    "    if dx < 0 or dy < 0 or dx >= 8 or dy >= 8:\n",
    "        continue\n",
    "    result += 1\n",
    "    \n",
    "print(result)"
   ]
  }
 ],
 "metadata": {
  "kernelspec": {
   "display_name": "Python 3 (ipykernel)",
   "language": "python",
   "name": "python3"
  },
  "language_info": {
   "codemirror_mode": {
    "name": "ipython",
    "version": 3
   },
   "file_extension": ".py",
   "mimetype": "text/x-python",
   "name": "python",
   "nbconvert_exporter": "python",
   "pygments_lexer": "ipython3",
   "version": "3.9.10"
  }
 },
 "nbformat": 4,
 "nbformat_minor": 5
}
