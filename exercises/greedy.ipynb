{
 "cells": [
  {
   "cell_type": "markdown",
   "metadata": {},
   "source": [
    "## greedy algorithm\n",
    "- 현재 상태에서 가장 최선의 선택을 하는 알고리즘"
   ]
  },
  {
   "cell_type": "code",
   "execution_count": 11,
   "metadata": {},
   "outputs": [
    {
     "name": "stdout",
     "output_type": "stream",
     "text": [
      "25 3\n",
      "6\n"
     ]
    }
   ],
   "source": [
    "# 1이 될 떄 까지\n",
    "# 1. N에서 1을 뺌\n",
    "# 2. N을 K로 나눔\n",
    "# 최소 수행하는 횟수는?\n",
    "\n",
    "n, k = map(int, input().split())\n",
    "cnt = 0\n",
    "while(n != 1):\n",
    "    if n % k == 0:\n",
    "        n = n / k\n",
    "        cnt += 1\n",
    "    else:\n",
    "        n = n - 1\n",
    "        cnt += 1\n",
    "        \n",
    "print(cnt)"
   ]
  },
  {
   "cell_type": "code",
   "execution_count": 13,
   "metadata": {},
   "outputs": [
    {
     "name": "stdout",
     "output_type": "stream",
     "text": [
      "25 3\n",
      "6\n"
     ]
    }
   ],
   "source": [
    "# 좋은 코드 (시간복잡도)\n",
    "\n",
    "n, k = map(int, input().split())\n",
    "result = 0\n",
    "    \n",
    "while True:\n",
    "    target = (n // k) * k\n",
    "    result += (n - target)\n",
    "    n = target\n",
    "    if n < k:\n",
    "        break\n",
    "    result += 1\n",
    "    n //= k\n",
    "    \n",
    "result += (n - 1)\n",
    "print(result)"
   ]
  },
  {
   "cell_type": "code",
   "execution_count": 19,
   "metadata": {},
   "outputs": [
    {
     "name": "stdout",
     "output_type": "stream",
     "text": [
      "567\n",
      "210\n"
     ]
    }
   ],
   "source": [
    "# 곱하기 혹은 더하기\n",
    "data = input()\n",
    "result = 0\n",
    "for i in data:\n",
    "    if result > 1 and int(i) > 1: # 0 또는 1보다 클때\n",
    "        result *= int(i)\n",
    "    else:\n",
    "        result += int(i)\n",
    "        \n",
    "print(result)"
   ]
  },
  {
   "cell_type": "code",
   "execution_count": null,
   "metadata": {},
   "outputs": [],
   "source": [
    "# 모험가 길드 문제\n",
    "\n",
    "num = int(input())\n",
    "data = list(map(int, input().split()))\n",
    "data.sort()\n",
    "result = 0\n",
    "cnt = 0\n",
    "\n",
    "for i in data: \n",
    "    cnt += 1  # 현재 그룹에 모험가 포함\n",
    "    if cnt >= i:\n",
    "        result += 1 # 총 그룹 수 증가\n",
    "        cnt = 0  # 그룹 모험가 수 초기화\n",
    "print(cnt)\n",
    "        "
   ]
  },
  {
   "cell_type": "markdown",
   "metadata": {},
   "source": [
    "## 구현 문제\n",
    "- 흔히 알고리즘 대회에서 구현 문제란\n",
    "풀이를 떠올리는 것은 쉽지만 소스코드로 옮기기 어려운 문제"
   ]
  },
  {
   "cell_type": "code",
   "execution_count": 11,
   "metadata": {},
   "outputs": [
    {
     "name": "stdout",
     "output_type": "stream",
     "text": [
      "5\n",
      "R R R U D D\n",
      "3 4\n"
     ]
    }
   ],
   "source": [
    "n = int(input())\n",
    "x, y = 1, 1\n",
    "data = input().split()\n",
    "\n",
    "#     L  R   U  D 에 따른 이동 방향\n",
    "dx = [0, 0, -1, 1]  \n",
    "dy = [-1, 1, 0, 0]\n",
    "move_types = ['L', 'R', 'U', 'D']\n",
    "\n",
    "for i in data:\n",
    "    for j in range(len(move_types)):\n",
    "        if i == move_types[j]:\n",
    "            nx = x + dx[j]\n",
    "            ny = y + dy[j]\n",
    "            \n",
    "    if nx < 1 or ny < 1 or nx > n or ny > n:\n",
    "        continue\n",
    "        \n",
    "    x, y = nx, ny # 이동 수행\n",
    "print(x, y)\n"
   ]
  },
  {
   "cell_type": "code",
   "execution_count": 12,
   "metadata": {},
   "outputs": [
    {
     "name": "stdout",
     "output_type": "stream",
     "text": [
      "5\n",
      "11475\n"
     ]
    }
   ],
   "source": [
    "# 시각\n",
    "# 정수 N을 입력받으면 N시 59분 59초까지 3이 하나라도 포함되는 모든 경우의 수를 구해라 \n",
    "h = int(input())\n",
    "cnt = 0\n",
    "for i in range(h + 1):\n",
    "    for m in range(60):\n",
    "        for s in range(60):\n",
    "            if '3' in str(i) + str(m) + str(s):\n",
    "                cnt += 1\n",
    "print(cnt)"
   ]
  }
 ],
 "metadata": {
  "kernelspec": {
   "display_name": "Python 3",
   "language": "python",
   "name": "python3"
  },
  "language_info": {
   "codemirror_mode": {
    "name": "ipython",
    "version": 3
   },
   "file_extension": ".py",
   "mimetype": "text/x-python",
   "name": "python",
   "nbconvert_exporter": "python",
   "pygments_lexer": "ipython3",
   "version": "3.8.5"
  }
 },
 "nbformat": 4,
 "nbformat_minor": 4
}
