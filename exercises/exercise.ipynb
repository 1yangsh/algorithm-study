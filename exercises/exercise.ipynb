{
 "cells": [
  {
   "cell_type": "markdown",
   "metadata": {},
   "source": [
    "1. a = [1, 3, 5, 7, 9, 0, 2, 4, 6, 8]\n",
    "앞쪽 절반을 출력해 보세요.\n",
    "뒤쪽 절반을 출력해 보세요.\n",
    "거꾸로 출력해 보세요.\n",
    "거꾸로 짝수 번째만 출력해 보세요.\n",
    "거꾸로 홀수 번째만 출력해 보세요.\n",
    "\n",
    "2.\n",
    "피보나치 수열 구하기\n",
    "13\n",
    "피보나치 수열이란, 첫 번째 항의 값이 0이고 두 번째 항의 값이 1일 때, 이후의 항들은 이전의 두 항을 더한 값으로 이루어지는 수열을 말한다.\n",
    "\n",
    "예) 0, 1, 1, 2, 3, 5, 8, 13\n",
    "\n",
    "인풋을 정수 n으로 받았을때, n 이하까지의 피보나치 수열을 출력하는 프로그램을 작성하세요\n",
    "\n",
    "3.\n",
    "문자열 압축하기\n",
    "19\n",
    "문자열을 입력받아서, 같은 문자가 연속적으로 반복되는 경우에 그 반복 횟수를 표시하여 문자열을 압축하기.\n",
    "\n",
    "입력 예시: aaabbcccccca\n",
    "\n",
    "출력 예시: a3b2c6a1\n",
    "\n",
    "\n",
    "4.\n",
    "10~1000까지 각 숫자 분해하여 곱하기의 전체 합 구하기\n",
    "예로, 10~15까지의 각 숫자 분해하여 곱하기의 전체 합은 다음과 같다.\n",
    "\n",
    "10 = 1 * 0 = 0\n",
    "11 = 1 * 1 = 1\n",
    "12 = 1 * 2 = 2\n",
    "13 = 1 * 3 = 3\n",
    "14 = 1 * 4 = 4\n",
    "15 = 1 * 5 = 5\n",
    "\n",
    "그러므로, 이 경우의 답은 0+1+2+3+4+5 = 15\n",
    "\n",
    "\n",
    "5.\n",
    "애니팡\n",
    "타일판은 5 × 5\n",
    "타일 종류는 1 ~ 4의 네 가지\n",
    "가로나 세로로 3개 이상 같은 타일이 연속될 경우 펑! 사라지고, 그 자리에는 위쪽의 타일들이 내려와서 메꿉니다.\n",
    "내려오면서 비게 된 자리는 0으로 채워집니다.\n",
    "위의 규칙대로 동작하는 프로그램을 작성해주세요.\n",
    "\n",
    "입력 형식\n",
    "아래 예와 같은 5 × 5 숫자 배열을 리스트에 저장한 뒤 문제 해결하세요\n",
    "\n",
    "2 4 1 2 1\n",
    "3 4 2 3 3\n",
    "2 4 1 2 2\n",
    "4 4 4 1 2\n",
    "4 2 3 3 2\n",
    "\n",
    "출력형식\n",
    "같은 타일들을 모두 처리한 후의 최종 5 × 5 숫자 배열\n",
    "\n",
    "0 0 0 0 0\n",
    "2 0 0 0 0\n",
    "3 0 0 0 0\n",
    "2 0 0 2 0\n",
    "4 0 1 3 0"
   ]
  },
  {
   "cell_type": "code",
   "execution_count": 55,
   "metadata": {},
   "outputs": [
    {
     "name": "stdout",
     "output_type": "stream",
     "text": [
      "19\n",
      "[0, 1, 1, 2, 3, 5, 8, 13]\n"
     ]
    }
   ],
   "source": [
    "# 2. fibonacci\n",
    "\n",
    "def fib(n):\n",
    "    if n == 1:\n",
    "        return 0\n",
    "    elif n == 2:\n",
    "        return 1\n",
    "    else:\n",
    "        return fib(n-1) + fib(n-2) \n",
    "    \n",
    "                                                           \n",
    "n = int(input())\n",
    "myList = []\n",
    "i = 1\n",
    "\n",
    "while(1):\n",
    "    if fib(i) > n:\n",
    "        break\n",
    "    myList.append(fib(i))\n",
    "    i += 1\n",
    "\n",
    "print(myList)"
   ]
  },
  {
   "cell_type": "code",
   "execution_count": 56,
   "metadata": {},
   "outputs": [
    {
     "name": "stdout",
     "output_type": "stream",
     "text": [
      "aaabbcccccca\n",
      "a3b2c6a1"
     ]
    }
   ],
   "source": [
    "# 3\n",
    "\n",
    "myStr = input()\n",
    "myList = []\n",
    "char = myStr[0]\n",
    "cnt = 1\n",
    "for i in range(1, len(myStr)):\n",
    "    if myStr[i] == char:\n",
    "        cnt += 1\n",
    "        if i == (len(myStr)-1):\n",
    "            myList.append(char)\n",
    "            myList.append(cnt)\n",
    "    else:\n",
    "        myList.append(char)\n",
    "        myList.append(cnt)\n",
    "        char = myStr[i]\n",
    "        cnt = 1\n",
    "        if i == (len(myStr)-1):\n",
    "            myList.append(char)\n",
    "            myList.append(cnt)\n",
    "\n",
    "\n",
    "for i in myList:\n",
    "    print(str(i), end='')\n",
    "        "
   ]
  },
  {
   "cell_type": "code",
   "execution_count": 9,
   "metadata": {},
   "outputs": [
    {
     "name": "stdout",
     "output_type": "stream",
     "text": [
      "93150\n"
     ]
    }
   ],
   "source": [
    "# 4\n",
    "myList = []\n",
    "\n",
    "for i in range(10, 1001):\n",
    "    num = 1\n",
    "    for j in str(i):\n",
    "        num *= int(j)\n",
    "    myList.append(num)\n",
    "print(sum(myList))"
   ]
  },
  {
   "cell_type": "code",
   "execution_count": 21,
   "metadata": {},
   "outputs": [],
   "source": [
    "# 5.\n",
    "# 애니팡\n",
    "# 타일판은 5 × 5\n",
    "# 타일 종류는 1 ~ 4의 네 가지\n",
    "# 가로나 세로로 3개 이상 같은 타일이 연속될 경우 펑! 사라지고, 그 자리에는 위쪽의 타일들이 내려와서 메꿉니다.\n",
    "# 내려오면서 비게 된 자리는 0으로 채워집니다.\n",
    "# 위의 규칙대로 동작하는 프로그램을 작성해주세요.\n",
    "\n",
    "# 입력 형식\n",
    "# 아래 예와 같은 5 × 5 숫자 배열을 리스트에 저장한 뒤 문제 해결하세요\n",
    "\n",
    "# 2 4 1 2 1\n",
    "# 3 4 2 3 3\n",
    "# 2 4 1 2 2\n",
    "# 4 4 4 1 2\n",
    "# 4 2 3 3 2\n",
    "\n",
    "# 출력형식\n",
    "# 같은 타일들을 모두 처리한 후의 최종 5 × 5 숫자 배열\n",
    "\n",
    "# 0 0 0 0 0\n",
    "# 2 0 0 0 0\n",
    "# 3 0 0 0 0\n",
    "# 2 0 0 2 0\n",
    "# 4 0 1 3 0\n",
    "\n",
    "myList = [[2,4,1,2,1], [3,4,2,3,3], [2,4,1,2,2], [4,4,4,1,2], [4,2,3,3,2]]\n"
   ]
  }
 ],
 "metadata": {
  "kernelspec": {
   "display_name": "Python 3",
   "language": "python",
   "name": "python3"
  },
  "language_info": {
   "codemirror_mode": {
    "name": "ipython",
    "version": 3
   },
   "file_extension": ".py",
   "mimetype": "text/x-python",
   "name": "python",
   "nbconvert_exporter": "python",
   "pygments_lexer": "ipython3",
   "version": "3.8.5"
  }
 },
 "nbformat": 4,
 "nbformat_minor": 4
}
