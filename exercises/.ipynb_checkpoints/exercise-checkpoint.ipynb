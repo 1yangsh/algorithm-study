{
 "cells": [
  {
   "cell_type": "code",
   "execution_count": 55,
   "metadata": {},
   "outputs": [
    {
     "name": "stdout",
     "output_type": "stream",
     "text": [
      "19\n",
      "[0, 1, 1, 2, 3, 5, 8, 13]\n"
     ]
    }
   ],
   "source": [
    "# 2. fibonacci\n",
    "# 피보나치 수열 구하기\n",
    "# 피보나치 수열이란, 첫 번째 항의 값이 0이고 두 번째 항의 값이 1일 때, 이후의 항들은 이전의 두 항을 더한 값으로 이루어지는 수열을 말한다.\n",
    "\n",
    "# 예) 0, 1, 1, 2, 3, 5, 8, 13\n",
    "\n",
    "# 인풋을 정수 n으로 받았을때, n 이하까지의 피보나치 수열을 출력하는 프로그램을 작성하세요\n",
    "\n",
    "\n",
    "\n",
    "def fib(n):\n",
    "    if n == 1:\n",
    "        return 0\n",
    "    elif n == 2:\n",
    "        return 1\n",
    "    else:\n",
    "        return fib(n-1) + fib(n-2) \n",
    "    \n",
    "                                                           \n",
    "n = int(input())\n",
    "myList = []\n",
    "i = 1\n",
    "\n",
    "while(1):\n",
    "    if fib(i) > n:\n",
    "        break\n",
    "    myList.append(fib(i))\n",
    "    i += 1\n",
    "\n",
    "print(myList)"
   ]
  },
  {
   "cell_type": "code",
   "execution_count": 56,
   "metadata": {},
   "outputs": [
    {
     "name": "stdout",
     "output_type": "stream",
     "text": [
      "aaabbcccccca\n",
      "a3b2c6a1"
     ]
    }
   ],
   "source": [
    "# 3\n",
    "# 문자열 압축하기\n",
    "\n",
    "# 문자열을 입력받아서, 같은 문자가 연속적으로 반복되는 경우에 그 반복 횟수를 표시하여 문자열을 압축하기.\n",
    "\n",
    "# 입력 예시: aaabbcccccca\n",
    "\n",
    "# 출력 예시: a3b2c6a1\n",
    "\n",
    "myStr = input()\n",
    "myList = []\n",
    "char = myStr[0]\n",
    "cnt = 1\n",
    "for i in range(1, len(myStr)):\n",
    "    if myStr[i] == char:\n",
    "        cnt += 1\n",
    "        if i == (len(myStr)-1):\n",
    "            myList.append(char)\n",
    "            myList.append(cnt)\n",
    "    else:\n",
    "        myList.append(char)\n",
    "        myList.append(cnt)\n",
    "        char = myStr[i]\n",
    "        cnt = 1\n",
    "        if i == (len(myStr)-1):\n",
    "            myList.append(char)\n",
    "            myList.append(cnt)\n",
    "\n",
    "\n",
    "for i in myList:\n",
    "    print(str(i), end='')\n",
    "        "
   ]
  },
  {
   "cell_type": "code",
   "execution_count": 9,
   "metadata": {},
   "outputs": [
    {
     "name": "stdout",
     "output_type": "stream",
     "text": [
      "93150\n"
     ]
    }
   ],
   "source": [
    "# 4\n",
    "'''\n",
    "10~1000까지 각 숫자 분해하여 곱하기의 전체 합 구하기\n",
    "예로, 10~15까지의 각 숫자 분해하여 곱하기의 전체 합은 다음과 같다.\n",
    "\n",
    "10 = 1 * 0 = 0\n",
    "11 = 1 * 1 = 1\n",
    "12 = 1 * 2 = 2\n",
    "13 = 1 * 3 = 3\n",
    "14 = 1 * 4 = 4\n",
    "15 = 1 * 5 = 5\n",
    "\n",
    "그러므로, 이 경우의 답은 0+1+2+3+4+5 = 15\n",
    "myList = []\n",
    "'''\n",
    "\n",
    "for i in range(10, 1001):\n",
    "    num = 1\n",
    "    for j in str(i):\n",
    "        num *= int(j)\n",
    "    myList.append(num)\n",
    "print(sum(myList))"
   ]
  },
  {
   "cell_type": "code",
   "execution_count": 1,
   "metadata": {},
   "outputs": [],
   "source": [
    "# 5.\n",
    "# 애니팡\n",
    "# 타일판은 5 × 5\n",
    "# 타일 종류는 1 ~ 4의 네 가지\n",
    "# 가로나 세로로 3개 이상 같은 타일이 연속될 경우 펑! 사라지고, 그 자리에는 위쪽의 타일들이 내려와서 메꿉니다.\n",
    "# 내려오면서 비게 된 자리는 0으로 채워집니다.\n",
    "# 위의 규칙대로 동작하는 프로그램을 작성해주세요.\n",
    "\n",
    "# 입력 형식\n",
    "# 아래 예와 같은 5 × 5 숫자 배열을 리스트에 저장한 뒤 문제 해결하세요\n",
    "\n",
    "# 2 4 1 2 1\n",
    "# 3 4 2 3 3\n",
    "# 2 4 1 2 2\n",
    "# 4 4 4 1 2\n",
    "# 4 2 3 3 2\n",
    "\n",
    "# 출력형식\n",
    "# 같은 타일들을 모두 처리한 후의 최종 5 × 5 숫자 배열\n",
    "\n",
    "# 0 0 0 0 0\n",
    "# 2 0 0 0 0\n",
    "# 3 0 0 0 0\n",
    "# 2 0 0 2 0\n",
    "# 4 0 1 3 0\n",
    "\n",
    "myList = [[2,4,1,2,1], [3,4,2,3,3], [2,4,1,2,2], [4,4,4,1,2], [4,2,3,3,2]]\n"
   ]
  },
  {
   "cell_type": "code",
   "execution_count": 112,
   "metadata": {},
   "outputs": [
    {
     "name": "stdout",
     "output_type": "stream",
     "text": [
      "1.2.0 1.1.99\n",
      "1.2.0 > 1.1.99\n"
     ]
    }
   ],
   "source": [
    "# 1.\n",
    "# A씨는 두 개의 버전을 비교하는 프로그램을 작성해야 한다.\n",
    "#\n",
    "# 버전은 다음처럼 \".\" 으로 구분된 문자열이다.\n",
    "#\n",
    "# 버전 예) 1.0.0, 1.0.23, 1.1\n",
    "#\n",
    "# 두 개의 버전을 비교하는 프로그램을 작성하시오.\n",
    "#\n",
    "# 다음은 버전 비교의 예이다.\n",
    "#\n",
    "# 0.0.2 > 0.0.1\n",
    "# 1.0.10 > 1.0.3\n",
    "# 1.2.0 > 1.1.99\n",
    "# 1.1 > 1.0.1\n",
    "\n",
    "\n",
    "def version(ver1, ver2):\n",
    "    for i in range(len(ver1)):\n",
    "        if ver1[i] > ver2[i]:\n",
    "            return \">\"\n",
    "        elif ver1[i] < ver2[i]:\n",
    "            return \"<\"\n",
    "        else:\n",
    "            pass\n",
    "\n",
    "a = input().split()\n",
    "ver1 = a[0]\n",
    "ver2 = a[1]\n",
    "\n",
    "print(ver1, version(ver1.split('.'), ver2.split('.')), ver2)\n"
   ]
  },
  {
   "cell_type": "code",
   "execution_count": 113,
   "metadata": {},
   "outputs": [
    {
     "name": "stdout",
     "output_type": "stream",
     "text": [
      "10 3\n",
      "[1, 2, 4, 5, 6, 7, 8, 9, 10]\n",
      "[1, 2, 4, 5, 7, 8, 9, 10]\n",
      "[1, 2, 4, 5, 7, 8, 10]\n",
      "[1, 4, 5, 7, 8, 10]\n",
      "[1, 4, 5, 8, 10]\n",
      "[4, 5, 8, 10]\n",
      "[4, 5, 10]\n",
      "[4, 10]\n",
      "[4]\n",
      "[4]\n"
     ]
    }
   ],
   "source": [
    "# 2.\n",
    "# 약 2,000년 전에는 전쟁에서 병사들이 적들에 의해 동굴에 갇히게 되는 경우가 종종 있었다고 한다.\n",
    "# 그들은 포로가 되는것을 방지하기 위해 동그랗게 서서 마지막 한 사람이 남을 때 까지 순서대로 돌아가며 세번째에 해당되는 사람을 죽여 나갔다고 한다.\n",
    "# 마지막으로 남게되는 사람은 자살하기로 약속되어 있었지만 보통 적들에게 항복을 하는 경우가 많았다고 한다.\n",
    "# 여러분이 풀어야 할 문제는 총 인원수(N)와 간격(K)이 주어졌을 때 가장 마지막에 살아남는 병사의 위치(the safe position)를 알아내는 것이다.\n",
    "# 예를 들어 병사수가 총 10명이고 돌아가며 세번째에 해당되는 병사를 제거하는 경우는 다음과 같다:\n",
    "# N = 10, K = 3\n",
    "# 위의 경우 다음과 같은 순서로 병사들이 제거된다. (괄호는 제거되는 병사를 의미한다)\n",
    "# 1st round: 1 2 (3) 4 5 (6) 7 8 (9) 10\n",
    "# 2nd round:                            1 (2) 4 5 (7) 8 10\n",
    "# 3rd round:                                                (1) 4 5 (8) 10\n",
    "# 4th round:                                                               4 (5) 10\n",
    "# 5th round:                                                                        4 (10)\n",
    "# 위 예에서 끝가지 살아남는 병사는 4, 즉 4번째 병사이다.\n",
    "# 입력 데이터는 총 병사수 N과 간격 K이다.\n",
    "# 출력 데이터는 마지막까지 살아남는 병사의 위치이다.\n",
    "# (단, 최초 시작은 1번 병사부터이다.)\n",
    "# 입출력 예는 다음과 같다:\n",
    "#\n",
    "# initial data:\n",
    "# 10 3\n",
    "#\n",
    "# answer:   \n",
    "# 4\n",
    "                                                 \n",
    "\n",
    "a, b = map(int, input().split())\n",
    "myList = []\n",
    "for i in range(1, a+1):\n",
    "    myList.append(i)\n",
    "\n",
    "cnt = b - 1\n",
    "cnt2 = 0\n",
    "while len(myList) != 1:\n",
    "    del(myList[cnt-cnt2])\n",
    "    cnt += b \n",
    "    cnt2 += 1\n",
    "    print(myList)\n",
    "    if cnt >= a:\n",
    "        cnt -= a\n",
    "        a = len(myList)   \n",
    "        cnt2 = 0\n",
    "        \n",
    "print(myList)\n"
   ]
  },
  {
   "cell_type": "code",
   "execution_count": 138,
   "metadata": {},
   "outputs": [
    {
     "name": "stdout",
     "output_type": "stream",
     "text": [
      "{'in': 12, 'the': 10, 'Bolikango': 5, 'a': 4, 'of': 4, 'and': 3, 'to': 3, 'his': 3, 'became': 2, 'government': 2}\n"
     ]
    }
   ],
   "source": [
    "# 3.\n",
    "# 텍스트가 입력으로 주어질 때, 단어의 개수를 세는 프로그램을 작성한다.\n",
    "# \"문자 세기\"와 \"단어 세기\"는 프로그래밍 입문에 성공했는지를 가늠하는 문제라고 할 수 있습니다.\n",
    "#\n",
    "# 입력\n",
    "# 아래 내용을 가진 텍스트파일을 미리 만들어 두고, 프로그램을 실행하면 파일 내용을 읽어들인다(출처: Wikipedia).\n",
    "# As the country became embroiled in a domestic crisis, the first government was dislodged and succeeded by several different administrations. Bolikango served as Deputy Prime Minister in one of the new governments before a partial state of stability was reestablished in 1961. He mediated between warring factions in the Congo and briefly served once again as Deputy Prime Minister in 1962 before returning to the parliamentary opposition. After Joseph-Desire Mobutu took power in 1965, Bolikango became a minister in his government. Mobutu soon dismissed him but appointed him to the political bureau of the Mouvement Populaire de la Revolution. Bolikango left the bureau in 1970. He left Parliament in 1975 and died seven years later. His grandson created the Jean Bolikango Foundation in his memory to promote social progress. The President of the Congo posthumously awarded Bolikango a medal in 2005 for his long career in public service.\n",
    "#\n",
    "# 출력\n",
    "# 구분자(Separator)는 마침표 '.', 쉼표 ',', 공백 ' ' 이다.\n",
    "# 가장 많이 나온 순서대로 단어 10개와 그 단어의 빈도를 출력한다.\n",
    "# 빈도가 같은 단어들 사이의 순서는 무시한다.\n",
    "#\n",
    "# in 12\n",
    "# the 10\n",
    "# Bolikango 5\n",
    "# a 4\n",
    "# of 4\n",
    "# and 3\n",
    "# to 3\n",
    "# his 3\n",
    "# became 2\n",
    "# government 2\n",
    "\n",
    "import re\n",
    "\n",
    "with open(\"a.txt\", 'r') as f:\n",
    "    txt = f.read()\n",
    "\n",
    "\n",
    "p = re.compile('[a-zA-Z0-9]+')\n",
    "myList = p.findall(txt)  \n",
    "\n",
    "dic = {}\n",
    "\n",
    "for i in myList:\n",
    "    if dic.get(i):\n",
    "        dic[i] += 1\n",
    "    else:\n",
    "        dic[i] = 1\n",
    "\n",
    "\n",
    "ans = {}\n",
    "cnt=0\n",
    "for j in sorted(dic, key=dic.get, reverse=True):\n",
    "    ans[j] = dic[j]\n",
    "    cnt += 1\n",
    "    if cnt == 10:\n",
    "        break\n",
    "\n",
    "print(ans)"
   ]
  },
  {
   "cell_type": "code",
   "execution_count": null,
   "metadata": {},
   "outputs": [],
   "source": []
  }
 ],
 "metadata": {
  "kernelspec": {
   "display_name": "Python 3",
   "language": "python",
   "name": "python3"
  },
  "language_info": {
   "codemirror_mode": {
    "name": "ipython",
    "version": 3
   },
   "file_extension": ".py",
   "mimetype": "text/x-python",
   "name": "python",
   "nbconvert_exporter": "python",
   "pygments_lexer": "ipython3",
   "version": "3.8.5"
  }
 },
 "nbformat": 4,
 "nbformat_minor": 4
}
