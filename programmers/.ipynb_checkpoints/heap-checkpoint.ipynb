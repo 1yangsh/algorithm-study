{
 "cells": [
  {
   "cell_type": "markdown",
   "id": "e454ea0a",
   "metadata": {},
   "source": [
    "## 더 맵게\n",
    "### heap\n",
    "https://programmers.co.kr/learn/courses/30/lessons/42626"
   ]
  },
  {
   "cell_type": "code",
   "execution_count": 2,
   "id": "841cc677",
   "metadata": {},
   "outputs": [
    {
     "data": {
      "text/plain": [
       "0"
      ]
     },
     "execution_count": 2,
     "metadata": {},
     "output_type": "execute_result"
    }
   ],
   "source": [
    "import heapq\n",
    "\n",
    "def solution(scoville, K):\n",
    "    # heap = []\n",
    "    # for score in scoville:\n",
    "    #     heapq.heappush(heap, score)\n",
    "    heapq.heapify(scoville)\n",
    "        \n",
    "    cnt = 0\n",
    "    while len(scoville) >= 2:\n",
    "        minimun = heapq.heappop(scoville)\n",
    "        if minimun >= K:\n",
    "            return cnt\n",
    "            break\n",
    "        else:\n",
    "            heapq.heappush(scoville, minimun + heapq.heappop(scoville) * 2)\n",
    "            cnt += 1\n",
    "    \n",
    "    if heapq.heappop(scoville) >= K:\n",
    "        return cnt\n",
    "    else:\n",
    "        return -1\n",
    "    \n",
    "    \n",
    "scoville = [1, 1, 100]\n",
    "K = 7\n",
    "solution(scoville, K)"
   ]
  },
  {
   "cell_type": "markdown",
   "id": "152cdf42",
   "metadata": {},
   "source": [
    "## 이중우선순위큐\n",
    "### heap\n",
    "https://programmers.co.kr/learn/courses/30/lessons/42628"
   ]
  },
  {
   "cell_type": "code",
   "execution_count": null,
   "id": "ebf0d3a8",
   "metadata": {},
   "outputs": [],
   "source": [
    "import heapq\n",
    "\n",
    "def solution(operations):\n",
    "    min_heap = []\n",
    "    max_heap = []\n",
    "    heapq.heapify(min_heap)\n",
    "    heapq.heapify(max_heap)\n",
    "    \n",
    "    for o in operations:\n",
    "        a, b = o.split()\n",
    "        if a == \"I\":\n",
    "            heapq.heappush(min_heap, int(b))\n",
    "            heapq.heappush(max_heap, -int(b))\n",
    "        else:\n",
    "            if b == '1':\n",
    "                if len(max_heap) != 0:\n",
    "                    heapq.heappop(max_heap)\n",
    "            else:\n",
    "                if len(min_heap) != 0:\n",
    "                    heapq.heappop(min_heap)\n",
    "\n",
    "        \n",
    "    result = []\n",
    "    a = list(max_heap)\n",
    "    b = list(min_heap)\n",
    "\n",
    "    for i in b:\n",
    "        if -i in a:\n",
    "            result.append(i)\n",
    "    \n",
    "\n",
    "    if len(result) <= 1:\n",
    "        return [0,0]\n",
    "    else:\n",
    "        return[max(result),min(result)]\n",
    "    \n",
    "# print(solution([\"I 16\",\"D 1\"]))\n",
    "# print(solution([\"I 7\",\"I 5\",\"I -5\",\"D -1\"]))\n",
    "# print(solution([\"I -45\", \"I 653\", \"D 1\", \"I -642\", \"I 45\", \"I 97\", \"D 1\", \"D -1\", \"I 333\"]))\n",
    "\n",
    "print(solution([\"I 16\", \"I -5643\", \"D -1\", \"D 1\", \"D 1\", \"I 123\", \"D -1\"]))"
   ]
  }
 ],
 "metadata": {
  "kernelspec": {
   "display_name": "Python 3",
   "language": "python",
   "name": "python3"
  },
  "language_info": {
   "codemirror_mode": {
    "name": "ipython",
    "version": 3
   },
   "file_extension": ".py",
   "mimetype": "text/x-python",
   "name": "python",
   "nbconvert_exporter": "python",
   "pygments_lexer": "ipython3",
   "version": "3.6.13"
  }
 },
 "nbformat": 4,
 "nbformat_minor": 5
}
