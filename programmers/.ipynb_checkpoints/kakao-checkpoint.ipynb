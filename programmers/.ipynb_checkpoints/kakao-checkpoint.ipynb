{
 "cells": [
  {
   "cell_type": "code",
   "execution_count": 56,
   "metadata": {},
   "outputs": [
    {
     "name": "stdout",
     "output_type": "stream",
     "text": [
      "['HA', 'AN', 'ND', 'DS', 'SH', 'HA', 'AK', 'KE'] ['SH', 'HA', 'AK', 'KE', 'EH', 'HA', 'AN', 'ND', 'DS']\n",
      "['HA', 'AN', 'ND', 'DS', 'SH', 'HA', 'AK', 'KE']\n"
     ]
    },
    {
     "data": {
      "text/plain": [
       "65536"
      ]
     },
     "execution_count": 56,
     "metadata": {},
     "output_type": "execute_result"
    }
   ],
   "source": [
    "import re\n",
    "p = re.compile('[a-zA-Z0-9가-힣]')\n",
    "\n",
    "\n",
    "str1 = \"handshake\".upper()\n",
    "str2 = \"shake hands\".upper()\n",
    "str1_re = p.findall(str1)  \n",
    "str2_re = p.findall(str2)\n",
    "\n",
    "\n",
    "def multiset(str):\n",
    "    myList = []\n",
    "    for i in range(len(str)-1):\n",
    "        myList.append(str[i]+str[i+1])\n",
    "    return myList\n",
    "\n",
    "\n",
    "def intersection(str1, str2):\n",
    "    myList2 = []\n",
    "    for j in multiset(str1):\n",
    "        if j in multiset(str2):\n",
    "            myList2.append(j)\n",
    "    return myList2\n",
    "\n",
    "\n",
    "def jacquard(str1, str2):\n",
    "    inter = intersection(str1_re, str2_re)\n",
    "    union = set(multiset(str1_re) + multiset(str2_re))\n",
    "    return int(float(len(inter) / len(union))*65536)\n",
    "\n",
    "\n",
    "print(multiset(str1_re), multiset(str2_re))\n",
    "print(intersection(str1, str2))\n",
    "\n",
    "jacquard(str1_re, str2_re)\n"
   ]
  },
  {
   "cell_type": "code",
   "execution_count": 72,
   "metadata": {},
   "outputs": [
    {
     "name": "stdout",
     "output_type": "stream",
     "text": [
      "['AA', 'A1', 'AA']\n",
      "['AA', 'A1', '1A', 'AA', 'A2', 'AA', 'AA', 'AA', 'AA', 'A1', '12']\n",
      "{'1A', 'AA', '12', 'A1', 'A2'}\n"
     ]
    },
    {
     "data": {
      "text/plain": [
       "24576"
      ]
     },
     "execution_count": 72,
     "metadata": {},
     "output_type": "execute_result"
    }
   ],
   "source": [
    "import re\n",
    "p = re.compile('[a-zA-Z0-9가-힣]')\n",
    "\n",
    "\n",
    "str1 = \"aa1+aa2\".upper()\n",
    "str2 = \"AAAAA12\".upper()\n",
    "str1_re = p.findall(str1)  \n",
    "str2_re = p.findall(str2)\n",
    "\n",
    "\n",
    "def multiset(str):\n",
    "    myList = []\n",
    "    for i in range(len(str)-1):\n",
    "        myList.append(str[i]+str[i+1])\n",
    "    return myList\n",
    "\n",
    "\n",
    "def intersection(str1, str2):\n",
    "    myList2 = []\n",
    "    for j in multiset(str1):\n",
    "        if j in multiset(str2):\n",
    "            myList2.append(j)\n",
    "    return myList2\n",
    "\n",
    "def unionsection(str1, str2):\n",
    "    union = multiset(str1) + multiset(str2)\n",
    "    for j in intersection(str1_re, str2_re):\n",
    "        union.remove(j)\n",
    "    return union\n",
    "\n",
    "def jacquard(str1, str2):\n",
    "    inter = intersection(str1_re, str2_re)\n",
    "    union = unionsection(str1_re, str2_re)\n",
    "    return int(float(len(inter) / len(union))*65536)\n",
    "\n",
    "\n",
    "\n",
    "jacquard(str1_re, str2_re)"
   ]
  },
  {
   "cell_type": "code",
   "execution_count": 103,
   "metadata": {},
   "outputs": [
    {
     "data": {
      "text/plain": [
       "32768"
      ]
     },
     "execution_count": 103,
     "metadata": {},
     "output_type": "execute_result"
    }
   ],
   "source": [
    "import re\n",
    "p = re.compile('[a-zA-Z0-9가-힣][a-zA-Z0-9가-힣]')\n",
    "\n",
    "\n",
    "def multiset(str):\n",
    "    myList = []\n",
    "    for i in range(len(str)-1):\n",
    "        myList.append(str[i]+str[i+1])\n",
    "    return myList\n",
    "\n",
    "\n",
    "def intersection(str1, str2):\n",
    "    myList2 = []\n",
    "    for j in str1:\n",
    "        if j in str2:\n",
    "            myList2.append(j)\n",
    "    return myList2\n",
    "\n",
    "def unionsection(str1, str2):\n",
    "    union = str1 + str2\n",
    "    for j in intersection(str1_re, str2_re):\n",
    "        union.remove(j)\n",
    "    return union\n",
    "\n",
    "\n",
    "def jacquard(str1, str2):\n",
    "    inter = intersection(str1_re, str2_re)\n",
    "    union = unionsection(str1_re, str2_re)\n",
    "    return int(float(len(inter) / len(union))*65536)\n",
    "\n",
    "str1 = \"aa1+aa2\".upper()\n",
    "str2 = \"AAAA12\".upper()\n",
    "str1_re = p.findall(str(multiset(str1)))\n",
    "str2_re = p.findall(str(multiset(str2)))\n",
    "\n",
    "\n",
    "# print(str1_re, str2_re)\n",
    "# print(unionsection(str1_re, str2_re))\n",
    "# print(intersection(str1_re, str2_re))\n",
    "\n",
    "jacquard(str1_re, str2_re)\n"
   ]
  }
 ],
 "metadata": {
  "kernelspec": {
   "display_name": "Python 3",
   "language": "python",
   "name": "python3"
  },
  "language_info": {
   "codemirror_mode": {
    "name": "ipython",
    "version": 3
   },
   "file_extension": ".py",
   "mimetype": "text/x-python",
   "name": "python",
   "nbconvert_exporter": "python",
   "pygments_lexer": "ipython3",
   "version": "3.8.5"
  }
 },
 "nbformat": 4,
 "nbformat_minor": 4
}
