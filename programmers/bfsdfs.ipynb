{
 "cells": [
  {
   "cell_type": "code",
   "execution_count": 9,
   "id": "fd3ea522",
   "metadata": {},
   "outputs": [
    {
     "data": {
      "text/plain": [
       "3"
      ]
     },
     "execution_count": 9,
     "metadata": {},
     "output_type": "execute_result"
    }
   ],
   "source": [
    "def solution(n, computers):\n",
    "    directions = [(1, 0), (-1, 0), (0, 1), (0, -1)]\n",
    "    \n",
    "    array = [[] for _ in range(n + 1)]\n",
    "    visited = [False] * (n + 1)\n",
    "    \n",
    "    for i in range(n):\n",
    "        for j in range(n):\n",
    "            if i != j and computers[i][j] == 1:\n",
    "                array[i].append(j)\n",
    "    \n",
    "    def dfs(v, visited):\n",
    "        visited[v] = True    \n",
    "        for e in array[v]:\n",
    "            if not visited[e]:\n",
    "                dfs(e, visited)\n",
    "                \n",
    "    count = 0\n",
    "    for v in range(1, n + 1):\n",
    "        if not visited[v]:\n",
    "            count += 1\n",
    "            dfs(v, visited)\n",
    "        \n",
    "                \n",
    "    return count\n",
    "\n",
    "n = 3\n",
    "computers = [[1, 1, 0], [1, 1, 0], [0, 0, 1]]\n",
    "solution(n, computers)"
   ]
  }
 ],
 "metadata": {
  "kernelspec": {
   "display_name": "Python 3",
   "language": "python",
   "name": "python3"
  },
  "language_info": {
   "codemirror_mode": {
    "name": "ipython",
    "version": 3
   },
   "file_extension": ".py",
   "mimetype": "text/x-python",
   "name": "python",
   "nbconvert_exporter": "python",
   "pygments_lexer": "ipython3",
   "version": "3.6.13"
  }
 },
 "nbformat": 4,
 "nbformat_minor": 5
}
